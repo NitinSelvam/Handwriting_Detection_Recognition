{
  "nbformat": 4,
  "nbformat_minor": 0,
  "metadata": {
    "colab": {
      "name": "Offline Handwriting.ipynb",
      "provenance": [],
      "collapsed_sections": [],
      "toc_visible": true
    },
    "kernelspec": {
      "name": "python3",
      "display_name": "Python 3"
    }
  },
  "cells": [
    {
      "cell_type": "markdown",
      "metadata": {
        "id": "Xo0TopIN1qrk",
        "colab_type": "text"
      },
      "source": [
        "# **Handwriting Text Detection**"
      ]
    },
    {
      "cell_type": "code",
      "metadata": {
        "id": "nDNrS2orUSRP",
        "colab_type": "code",
        "colab": {}
      },
      "source": [
        "import warnings\n",
        "warnings.filterwarnings(\"ignore\")"
      ],
      "execution_count": 0,
      "outputs": []
    },
    {
      "cell_type": "markdown",
      "metadata": {
        "id": "IAwf6QBw13dV",
        "colab_type": "text"
      },
      "source": [
        "The program contains few lines compatible with Tensorflow v2 and few lines with v1. I found that version 1.14.0 is compatible with both sets of lines. Thus uninstalling updated Tensorflow, and installing v1.14.0"
      ]
    },
    {
      "cell_type": "code",
      "metadata": {
        "id": "V2n-pkMazAmP",
        "colab_type": "code",
        "colab": {}
      },
      "source": [
        "!pip uninstall tensorflow\n",
        "!pip install tensorflow==1.14.0"
      ],
      "execution_count": 0,
      "outputs": []
    },
    {
      "cell_type": "code",
      "metadata": {
        "id": "trFcTH-YEYMC",
        "colab_type": "code",
        "outputId": "80081044-5241-4c58-c767-200de503baed",
        "colab": {
          "base_uri": "https://localhost:8080/",
          "height": 35
        }
      },
      "source": [
        "from __future__ import division\n",
        "from __future__ import print_function\n",
        "\n",
        "import sys\n",
        "import argparse\n",
        "import cv2\n",
        "import editdistance # used to calculate errors in characters between predicted and actual words\n",
        "sys.path.append('/content/drive/My Drive/src')\n",
        "from DataLoader import DataLoader, Batch # Used for loading data which corresponds to IAM format\n",
        "from Model import Model, DecoderType # TensorFlow Model for Handwriting Detection\n",
        "from SamplePreprocessor import preprocess # Preprocessing/cleaning images such as stretching,normalizing the images\n",
        "import tensorflow as tf\n",
        "tf.__version__\n",
        "#/content/drive/My Drive/src/DataLoader.py"
      ],
      "execution_count": 26,
      "outputs": [
        {
          "output_type": "execute_result",
          "data": {
            "text/plain": [
              "'1.14.0'"
            ]
          },
          "metadata": {
            "tags": []
          },
          "execution_count": 26
        }
      ]
    },
    {
      "cell_type": "code",
      "metadata": {
        "id": "foa3R4poQYpq",
        "colab_type": "code",
        "colab": {}
      },
      "source": [
        "class FilePaths:\n",
        "\t\"filenames and paths to data\"\n",
        "\tfnCharList = '/content/drive/My Drive/model/charList.txt'\n",
        "\tfnAccuracy = '/content/drive/My Drive/model/accuracy.txt'\n",
        "\tfnTrain = '/content/drive/My Drive/data/'\n",
        "\tfnInfer = '/content/drive/My Drive/data/test.png'\n",
        "\tfnCorpus = '/content/drive/My Drive/data/corpus.txt'"
      ],
      "execution_count": 0,
      "outputs": []
    },
    {
      "cell_type": "code",
      "metadata": {
        "id": "eRSw-ScmQZjZ",
        "colab_type": "code",
        "colab": {}
      },
      "source": [
        "def train(model, loader):\n",
        "\t\"train NN\"\n",
        "\tepoch = 0 # number of training epochs since start\n",
        "\tbestCharErrorRate = float('inf') # best valdiation character error rate\n",
        "\tnoImprovementSince = 0 # number of epochs no improvement of character error rate occured\n",
        "\tearlyStopping = 2 # stop training after this number of epochs without improvement\n",
        "\twhile True:\n",
        "\t\tepoch += 1\n",
        "\t\tprint('Epoch:', epoch)\n",
        "\n",
        "\t\t# train\n",
        "\t\tprint('Train NN')\n",
        "\t\tloader.trainSet()\n",
        "\t\twhile loader.hasNext():\n",
        "\t\t\titerInfo = loader.getIteratorInfo()\n",
        "\t\t\tbatch = loader.getNext()\n",
        "\t\t\tloss = model.trainBatch(batch)\n",
        "\t\t\tprint('Batch:', iterInfo[0],'/', iterInfo[1], 'Loss:', loss)\n",
        "\n",
        "\t\t# validate\n",
        "\t\tcharErrorRate = validate(model, loader)\n",
        "\t\t\n",
        "\t\t# if best validation accuracy so far, save model parameters\n",
        "\t\tif charErrorRate < bestCharErrorRate:\n",
        "\t\t\tprint('Character error rate improved, save model')\n",
        "\t\t\tbestCharErrorRate = charErrorRate\n",
        "\t\t\tnoImprovementSince = 0\n",
        "\t\t\tmodel.save()\n",
        "\t\t\topen(FilePaths.fnAccuracy, 'w').write('Validation character error rate of saved model: %f%%' % (charErrorRate*100.0))\n",
        "\t\telse:\n",
        "\t\t\tprint('Character error rate not improved')\n",
        "\t\t\tnoImprovementSince += 1\n",
        "\n",
        "\t\t# stop training if no more improvement in the last x epochs\n",
        "\t\tif noImprovementSince >= earlyStopping:\n",
        "\t\t\tprint('No more improvement since %d epochs. Training stopped.' % earlyStopping)\n",
        "\t\t\tbreak"
      ],
      "execution_count": 0,
      "outputs": []
    },
    {
      "cell_type": "code",
      "metadata": {
        "id": "e8blLOW4QcUX",
        "colab_type": "code",
        "colab": {}
      },
      "source": [
        "def validate(model, loader):\n",
        "\t\"validate NN\"\n",
        "\tprint('Validate NN')\n",
        "\tloader.validationSet()\n",
        "\tnumCharErr = 0\n",
        "\tnumCharTotal = 0\n",
        "\tnumWordOK = 0\n",
        "\tnumWordTotal = 0\n",
        "\twhile loader.hasNext():\n",
        "\t\titerInfo = loader.getIteratorInfo()\n",
        "\t\tprint('Batch:', iterInfo[0],'/', iterInfo[1])\n",
        "\t\tbatch = loader.getNext()\n",
        "\t\t(recognized, _) = model.inferBatch(batch)\n",
        "\t\t\n",
        "\t\tprint('Ground truth -> Recognized')\t\n",
        "\t\tfor i in range(len(recognized)):\n",
        "\t\t\tnumWordOK += 1 if batch.gtTexts[i] == recognized[i] else 0\n",
        "\t\t\tnumWordTotal += 1\n",
        "\t\t\tdist = editdistance.eval(recognized[i], batch.gtTexts[i])\n",
        "\t\t\tnumCharErr += dist\n",
        "\t\t\tnumCharTotal += len(batch.gtTexts[i])\n",
        "\t\t\tprint('[OK]' if dist==0 else '[ERR:%d]' % dist,'\"' + batch.gtTexts[i] + '\"', '->', '\"' + recognized[i] + '\"')\n",
        "\t\n",
        "\t# print validation result\n",
        "\tcharErrorRate = numCharErr / numCharTotal\n",
        "\twordAccuracy = numWordOK / numWordTotal\n",
        "\tprint('Character error rate: %f%%. Word accuracy: %f%%.' % (charErrorRate*100.0, wordAccuracy*100.0))\n",
        "\treturn charErrorRate"
      ],
      "execution_count": 0,
      "outputs": []
    },
    {
      "cell_type": "code",
      "metadata": {
        "id": "UzSmPfXQQl_p",
        "colab_type": "code",
        "colab": {}
      },
      "source": [
        "def infer(model, fnImg):\n",
        "\t\"recognize text in image provided by file path\"\n",
        "\timg = preprocess(cv2.imread(fnImg, cv2.IMREAD_GRAYSCALE), Model.imgSize)\n",
        "\tbatch = Batch(None, [img])\n",
        "\t(recognized, probability) = model.inferBatch(batch, True)\n",
        "\tprint('Recognized:', '\"' + recognized[0] + '\"')\n",
        "\tprint('Probability:', probability[0])"
      ],
      "execution_count": 0,
      "outputs": []
    },
    {
      "cell_type": "code",
      "metadata": {
        "id": "Fp1SF-hNdHXR",
        "colab_type": "code",
        "colab": {}
      },
      "source": [
        "def train_model():\n",
        "  print(FilePaths.fnTrain)\n",
        "  loader = DataLoader(FilePaths.fnTrain, Model.batchSize, Model.imgSize, Model.maxTextLen)\n",
        "  open(FilePaths.fnCharList, 'w').write(str().join(loader.charList))\n",
        "  open(FilePaths.fnCorpus, 'w').write(str(' ').join(loader.trainWords + loader.validationWords))\n",
        "  model = Model(loader.charList, decoderType)\n",
        "  train(model, loader)"
      ],
      "execution_count": 0,
      "outputs": []
    },
    {
      "cell_type": "code",
      "metadata": {
        "id": "EOK9GA3okwFm",
        "colab_type": "code",
        "colab": {}
      },
      "source": [
        "train_model()"
      ],
      "execution_count": 0,
      "outputs": []
    },
    {
      "cell_type": "code",
      "metadata": {
        "id": "h_0BVptweDz4",
        "colab_type": "code",
        "colab": {}
      },
      "source": [
        "def validate_model():\n",
        "  loader = DataLoader(FilePaths.fnTrain, Model.batchSize, Model.imgSize, Model.maxTextLen)\n",
        "  open(FilePaths.fnCharList, 'w').write(str().join(loader.charList))\n",
        "  open(FilePaths.fnCorpus, 'w').write(str(' ').join(loader.trainWords + loader.validationWords))\n",
        "  model = Model(loader.charList, decoderType, mustRestore=True)\n",
        "  validate(model, loader)"
      ],
      "execution_count": 0,
      "outputs": []
    },
    {
      "cell_type": "code",
      "metadata": {
        "id": "hngTENjyeswx",
        "colab_type": "code",
        "colab": {}
      },
      "source": [
        "def infer_model(decoderType,dump_val): #Infering/testing the model\n",
        "  print(open(FilePaths.fnAccuracy).read())\n",
        "  model = Model(open(FilePaths.fnCharList).read(), decoderType, mustRestore=True, dump=dump_val)\n",
        "  infer(model, FilePaths.fnInfer)"
      ],
      "execution_count": 0,
      "outputs": []
    },
    {
      "cell_type": "code",
      "metadata": {
        "id": "ptrHygs1QsEX",
        "colab_type": "code",
        "outputId": "ea759749-ef1f-4397-8255-745083dca23b",
        "colab": {
          "base_uri": "https://localhost:8080/",
          "height": 72
        }
      },
      "source": [
        "print(\"Enter which decoding algorithm to use:\")\n",
        "decoderType = int(input(\"BestPath - 0, BeamSearch - 1( Enter 0 or 1):    \"))\n",
        "print(type(decoderType))"
      ],
      "execution_count": 0,
      "outputs": [
        {
          "output_type": "stream",
          "text": [
            "Enter which decoding algorithm to use:\n",
            "BestPath - 0, BeamSearch - 1, WordBeamSearch - 2 ( Enter 0 or 1 or 2):    0\n",
            "<class 'int'>\n"
          ],
          "name": "stdout"
        }
      ]
    },
    {
      "cell_type": "code",
      "metadata": {
        "id": "OngGt25dfm3K",
        "colab_type": "code",
        "outputId": "bb7e042c-4e1f-482e-d122-734d6bf67513",
        "colab": {
          "base_uri": "https://localhost:8080/",
          "height": 625
        }
      },
      "source": [
        "print(\"Do you want to dump output of NN to CSV file(s)\")\n",
        "dump_str = input(\"Yes or No:  \")\n",
        "if dump_str==\"Yes\" or dump_str==\"yes\" or dump_str==\"YES\":\n",
        "  dump_value=True\n",
        "elif dump_str==\"No\" or dump_str==\"no\" or dump_str==\"NO\":\n",
        "  dump_value=False\n",
        "\n",
        "infer_model(decoderType,dump_value)"
      ],
      "execution_count": 32,
      "outputs": [
        {
          "output_type": "stream",
          "text": [
            "Do you want to dump output of NN to CSV file(s)\n",
            "Yes or No:  no\n",
            "Validation character error rate of saved model: 15.750033%\n",
            "WARNING:tensorflow:Entity <bound method BatchNormalization.call of <tensorflow.python.layers.normalization.BatchNormalization object at 0x7f160cb99278>> could not be transformed and will be executed as-is. Please report this to the AutgoGraph team. When filing the bug, set the verbosity to 10 (on Linux, `export AUTOGRAPH_VERBOSITY=10`) and attach the full output. Cause: converting <bound method BatchNormalization.call of <tensorflow.python.layers.normalization.BatchNormalization object at 0x7f160cb99278>>: AssertionError: Bad argument number for Name: 3, expecting 4\n",
            "WARNING: Entity <bound method BatchNormalization.call of <tensorflow.python.layers.normalization.BatchNormalization object at 0x7f160cb99278>> could not be transformed and will be executed as-is. Please report this to the AutgoGraph team. When filing the bug, set the verbosity to 10 (on Linux, `export AUTOGRAPH_VERBOSITY=10`) and attach the full output. Cause: converting <bound method BatchNormalization.call of <tensorflow.python.layers.normalization.BatchNormalization object at 0x7f160cb99278>>: AssertionError: Bad argument number for Name: 3, expecting 4\n",
            "WARNING:tensorflow:Entity <bound method BatchNormalization.call of <tensorflow.python.layers.normalization.BatchNormalization object at 0x7f16126a3c50>> could not be transformed and will be executed as-is. Please report this to the AutgoGraph team. When filing the bug, set the verbosity to 10 (on Linux, `export AUTOGRAPH_VERBOSITY=10`) and attach the full output. Cause: converting <bound method BatchNormalization.call of <tensorflow.python.layers.normalization.BatchNormalization object at 0x7f16126a3c50>>: AssertionError: Bad argument number for Name: 3, expecting 4\n",
            "WARNING: Entity <bound method BatchNormalization.call of <tensorflow.python.layers.normalization.BatchNormalization object at 0x7f16126a3c50>> could not be transformed and will be executed as-is. Please report this to the AutgoGraph team. When filing the bug, set the verbosity to 10 (on Linux, `export AUTOGRAPH_VERBOSITY=10`) and attach the full output. Cause: converting <bound method BatchNormalization.call of <tensorflow.python.layers.normalization.BatchNormalization object at 0x7f16126a3c50>>: AssertionError: Bad argument number for Name: 3, expecting 4\n",
            "WARNING:tensorflow:Entity <bound method BatchNormalization.call of <tensorflow.python.layers.normalization.BatchNormalization object at 0x7f16131fa390>> could not be transformed and will be executed as-is. Please report this to the AutgoGraph team. When filing the bug, set the verbosity to 10 (on Linux, `export AUTOGRAPH_VERBOSITY=10`) and attach the full output. Cause: converting <bound method BatchNormalization.call of <tensorflow.python.layers.normalization.BatchNormalization object at 0x7f16131fa390>>: AssertionError: Bad argument number for Name: 3, expecting 4\n",
            "WARNING: Entity <bound method BatchNormalization.call of <tensorflow.python.layers.normalization.BatchNormalization object at 0x7f16131fa390>> could not be transformed and will be executed as-is. Please report this to the AutgoGraph team. When filing the bug, set the verbosity to 10 (on Linux, `export AUTOGRAPH_VERBOSITY=10`) and attach the full output. Cause: converting <bound method BatchNormalization.call of <tensorflow.python.layers.normalization.BatchNormalization object at 0x7f16131fa390>>: AssertionError: Bad argument number for Name: 3, expecting 4\n",
            "WARNING:tensorflow:Entity <bound method BatchNormalization.call of <tensorflow.python.layers.normalization.BatchNormalization object at 0x7f16126a3518>> could not be transformed and will be executed as-is. Please report this to the AutgoGraph team. When filing the bug, set the verbosity to 10 (on Linux, `export AUTOGRAPH_VERBOSITY=10`) and attach the full output. Cause: converting <bound method BatchNormalization.call of <tensorflow.python.layers.normalization.BatchNormalization object at 0x7f16126a3518>>: AssertionError: Bad argument number for Name: 3, expecting 4\n",
            "WARNING: Entity <bound method BatchNormalization.call of <tensorflow.python.layers.normalization.BatchNormalization object at 0x7f16126a3518>> could not be transformed and will be executed as-is. Please report this to the AutgoGraph team. When filing the bug, set the verbosity to 10 (on Linux, `export AUTOGRAPH_VERBOSITY=10`) and attach the full output. Cause: converting <bound method BatchNormalization.call of <tensorflow.python.layers.normalization.BatchNormalization object at 0x7f16126a3518>>: AssertionError: Bad argument number for Name: 3, expecting 4\n",
            "WARNING:tensorflow:Entity <bound method BatchNormalization.call of <tensorflow.python.layers.normalization.BatchNormalization object at 0x7f16131fa390>> could not be transformed and will be executed as-is. Please report this to the AutgoGraph team. When filing the bug, set the verbosity to 10 (on Linux, `export AUTOGRAPH_VERBOSITY=10`) and attach the full output. Cause: converting <bound method BatchNormalization.call of <tensorflow.python.layers.normalization.BatchNormalization object at 0x7f16131fa390>>: AssertionError: Bad argument number for Name: 3, expecting 4\n",
            "WARNING: Entity <bound method BatchNormalization.call of <tensorflow.python.layers.normalization.BatchNormalization object at 0x7f16131fa390>> could not be transformed and will be executed as-is. Please report this to the AutgoGraph team. When filing the bug, set the verbosity to 10 (on Linux, `export AUTOGRAPH_VERBOSITY=10`) and attach the full output. Cause: converting <bound method BatchNormalization.call of <tensorflow.python.layers.normalization.BatchNormalization object at 0x7f16131fa390>>: AssertionError: Bad argument number for Name: 3, expecting 4\n",
            "WARNING:tensorflow:Entity <bound method MultiRNNCell.call of <tensorflow.python.ops.rnn_cell_impl.MultiRNNCell object at 0x7f1612d84f60>> could not be transformed and will be executed as-is. Please report this to the AutgoGraph team. When filing the bug, set the verbosity to 10 (on Linux, `export AUTOGRAPH_VERBOSITY=10`) and attach the full output. Cause: converting <bound method MultiRNNCell.call of <tensorflow.python.ops.rnn_cell_impl.MultiRNNCell object at 0x7f1612d84f60>>: AttributeError: module 'gast' has no attribute 'Num'\n",
            "WARNING: Entity <bound method MultiRNNCell.call of <tensorflow.python.ops.rnn_cell_impl.MultiRNNCell object at 0x7f1612d84f60>> could not be transformed and will be executed as-is. Please report this to the AutgoGraph team. When filing the bug, set the verbosity to 10 (on Linux, `export AUTOGRAPH_VERBOSITY=10`) and attach the full output. Cause: converting <bound method MultiRNNCell.call of <tensorflow.python.ops.rnn_cell_impl.MultiRNNCell object at 0x7f1612d84f60>>: AttributeError: module 'gast' has no attribute 'Num'\n",
            "WARNING:tensorflow:Entity <bound method LSTMCell.call of <tensorflow.python.ops.rnn_cell_impl.LSTMCell object at 0x7f16131fa390>> could not be transformed and will be executed as-is. Please report this to the AutgoGraph team. When filing the bug, set the verbosity to 10 (on Linux, `export AUTOGRAPH_VERBOSITY=10`) and attach the full output. Cause: converting <bound method LSTMCell.call of <tensorflow.python.ops.rnn_cell_impl.LSTMCell object at 0x7f16131fa390>>: AttributeError: module 'gast' has no attribute 'Num'\n",
            "WARNING: Entity <bound method LSTMCell.call of <tensorflow.python.ops.rnn_cell_impl.LSTMCell object at 0x7f16131fa390>> could not be transformed and will be executed as-is. Please report this to the AutgoGraph team. When filing the bug, set the verbosity to 10 (on Linux, `export AUTOGRAPH_VERBOSITY=10`) and attach the full output. Cause: converting <bound method LSTMCell.call of <tensorflow.python.ops.rnn_cell_impl.LSTMCell object at 0x7f16131fa390>>: AttributeError: module 'gast' has no attribute 'Num'\n",
            "WARNING:tensorflow:Entity <bound method LSTMCell.call of <tensorflow.python.ops.rnn_cell_impl.LSTMCell object at 0x7f16132d01d0>> could not be transformed and will be executed as-is. Please report this to the AutgoGraph team. When filing the bug, set the verbosity to 10 (on Linux, `export AUTOGRAPH_VERBOSITY=10`) and attach the full output. Cause: converting <bound method LSTMCell.call of <tensorflow.python.ops.rnn_cell_impl.LSTMCell object at 0x7f16132d01d0>>: AttributeError: module 'gast' has no attribute 'Num'\n",
            "WARNING: Entity <bound method LSTMCell.call of <tensorflow.python.ops.rnn_cell_impl.LSTMCell object at 0x7f16132d01d0>> could not be transformed and will be executed as-is. Please report this to the AutgoGraph team. When filing the bug, set the verbosity to 10 (on Linux, `export AUTOGRAPH_VERBOSITY=10`) and attach the full output. Cause: converting <bound method LSTMCell.call of <tensorflow.python.ops.rnn_cell_impl.LSTMCell object at 0x7f16132d01d0>>: AttributeError: module 'gast' has no attribute 'Num'\n",
            "WARNING:tensorflow:Entity <bound method MultiRNNCell.call of <tensorflow.python.ops.rnn_cell_impl.MultiRNNCell object at 0x7f1612d84f60>> could not be transformed and will be executed as-is. Please report this to the AutgoGraph team. When filing the bug, set the verbosity to 10 (on Linux, `export AUTOGRAPH_VERBOSITY=10`) and attach the full output. Cause: converting <bound method MultiRNNCell.call of <tensorflow.python.ops.rnn_cell_impl.MultiRNNCell object at 0x7f1612d84f60>>: AttributeError: module 'gast' has no attribute 'Num'\n",
            "WARNING: Entity <bound method MultiRNNCell.call of <tensorflow.python.ops.rnn_cell_impl.MultiRNNCell object at 0x7f1612d84f60>> could not be transformed and will be executed as-is. Please report this to the AutgoGraph team. When filing the bug, set the verbosity to 10 (on Linux, `export AUTOGRAPH_VERBOSITY=10`) and attach the full output. Cause: converting <bound method MultiRNNCell.call of <tensorflow.python.ops.rnn_cell_impl.MultiRNNCell object at 0x7f1612d84f60>>: AttributeError: module 'gast' has no attribute 'Num'\n",
            "WARNING:tensorflow:Entity <bound method LSTMCell.call of <tensorflow.python.ops.rnn_cell_impl.LSTMCell object at 0x7f16131fa390>> could not be transformed and will be executed as-is. Please report this to the AutgoGraph team. When filing the bug, set the verbosity to 10 (on Linux, `export AUTOGRAPH_VERBOSITY=10`) and attach the full output. Cause: converting <bound method LSTMCell.call of <tensorflow.python.ops.rnn_cell_impl.LSTMCell object at 0x7f16131fa390>>: AttributeError: module 'gast' has no attribute 'Num'\n",
            "WARNING: Entity <bound method LSTMCell.call of <tensorflow.python.ops.rnn_cell_impl.LSTMCell object at 0x7f16131fa390>> could not be transformed and will be executed as-is. Please report this to the AutgoGraph team. When filing the bug, set the verbosity to 10 (on Linux, `export AUTOGRAPH_VERBOSITY=10`) and attach the full output. Cause: converting <bound method LSTMCell.call of <tensorflow.python.ops.rnn_cell_impl.LSTMCell object at 0x7f16131fa390>>: AttributeError: module 'gast' has no attribute 'Num'\n",
            "WARNING:tensorflow:Entity <bound method LSTMCell.call of <tensorflow.python.ops.rnn_cell_impl.LSTMCell object at 0x7f16132d01d0>> could not be transformed and will be executed as-is. Please report this to the AutgoGraph team. When filing the bug, set the verbosity to 10 (on Linux, `export AUTOGRAPH_VERBOSITY=10`) and attach the full output. Cause: converting <bound method LSTMCell.call of <tensorflow.python.ops.rnn_cell_impl.LSTMCell object at 0x7f16132d01d0>>: AttributeError: module 'gast' has no attribute 'Num'\n",
            "WARNING: Entity <bound method LSTMCell.call of <tensorflow.python.ops.rnn_cell_impl.LSTMCell object at 0x7f16132d01d0>> could not be transformed and will be executed as-is. Please report this to the AutgoGraph team. When filing the bug, set the verbosity to 10 (on Linux, `export AUTOGRAPH_VERBOSITY=10`) and attach the full output. Cause: converting <bound method LSTMCell.call of <tensorflow.python.ops.rnn_cell_impl.LSTMCell object at 0x7f16132d01d0>>: AttributeError: module 'gast' has no attribute 'Num'\n",
            "Python: 3.6.9 (default, Nov  7 2019, 10:44:02) \n",
            "[GCC 8.3.0]\n",
            "Tensorflow: 1.14.0\n",
            "Init with stored values from /content/drive/My Drive/model/snapshot-2\n",
            "INFO:tensorflow:Restoring parameters from /content/drive/My Drive/model/snapshot-2\n",
            "Recognized: \"little\"\n",
            "Probability: 0.52248619\n"
          ],
          "name": "stdout"
        }
      ]
    },
    {
      "cell_type": "code",
      "metadata": {
        "id": "qxL8L3u4tQvP",
        "colab_type": "code",
        "colab": {}
      },
      "source": [
        "tf.__version__"
      ],
      "execution_count": 0,
      "outputs": []
    }
  ]
}